{
 "cells": [
  {
   "cell_type": "markdown",
   "metadata": {},
   "source": [
    "# University Of Pennsylvania"
   ]
  },
  {
   "cell_type": "markdown",
   "metadata": {},
   "source": [
    "## Campus Jobs Retriever and Organizer"
   ]
  },
  {
   "cell_type": "markdown",
   "metadata": {},
   "source": [
    "#### Why the need arose? "
   ]
  },
  {
   "cell_type": "markdown",
   "metadata": {},
   "source": [
    "\n",
    "I am attending Univeristy of Pennsylvania in Fall 2021 for the program Masters in Data Science. \n",
    "I wanted to look at all the job opportunities I could pursue with my program at one glance and also sort or filter them on criterions such as Job Description, hourly pay, number of hours per week or weekly pay.\n",
    "This script was created to provide a solution to this need.\n",
    "\n",
    "The script neatly condenses all the listed jobs on University of Pennsylvania's official jobs portal into one Excel sheet sorted in descending order of Weekly Pay."
   ]
  },
  {
   "cell_type": "markdown",
   "metadata": {},
   "source": [
    "## Import Libraries"
   ]
  },
  {
   "cell_type": "code",
   "execution_count": null,
   "metadata": {},
   "outputs": [],
   "source": [
    "from selenium.webdriver import Chrome\n",
    "from selenium.webdriver.chrome.options import Options\n",
    "import requests\n",
    "from bs4 import BeautifulSoup\n",
    "import pandas as pd\n",
    "from selenium import webdriver\n",
    "from webdriver_manager.chrome import ChromeDriverManager\n",
    "from selenium.webdriver.common.keys import Keys\n",
    "import time\n",
    "import re\n",
    "import imaplib\n",
    "import email\n",
    "\n",
    "from datetime import datetime\n",
    "from dateutil.relativedelta import relativedelta\n",
    "from datetime import timezone\n",
    "import os\n",
    "import ssl\n",
    "import smtplib\n",
    "from email import encoders\n",
    "from email.mime.base import MIMEBase\n",
    "from email.mime.multipart import MIMEMultipart\n",
    "from email.mime.text import MIMEText\n",
    "from selenium.webdriver.common.action_chains import ActionChains\n"
   ]
  },
  {
   "cell_type": "markdown",
   "metadata": {},
   "source": [
    "## Open Selenium Controlled Chrome Browser"
   ]
  },
  {
   "cell_type": "code",
   "execution_count": null,
   "metadata": {},
   "outputs": [],
   "source": [
    "def open_browser():\n",
    "    opts = Options()\n",
    "    opts.headless = False\n",
    "    driver = webdriver.Chrome(ChromeDriverManager().install(), options=opts)\n",
    "    return driver"
   ]
  },
  {
   "cell_type": "code",
   "execution_count": null,
   "metadata": {},
   "outputs": [],
   "source": [
    "driver=open_browser()"
   ]
  },
  {
   "cell_type": "markdown",
   "metadata": {},
   "source": [
    "## Open UPenn Jobs Portal"
   ]
  },
  {
   "cell_type": "code",
   "execution_count": null,
   "metadata": {},
   "outputs": [],
   "source": [
    "driver.get(\"https://www.sfs.upenn.edu/seo/job_search/job_search.php\")"
   ]
  },
  {
   "cell_type": "code",
   "execution_count": null,
   "metadata": {},
   "outputs": [],
   "source": [
    "for element in driver.find_elements_by_tag_name(\"input\"):\n",
    "    if(\"Search >>\" in element.get_attribute(\"value\")):\n",
    "        print(element.get_attribute(\"value\"))\n",
    "        element.click()\n",
    "        break"
   ]
  },
  {
   "cell_type": "markdown",
   "metadata": {},
   "source": [
    "## Fetching All Job IDS"
   ]
  },
  {
   "cell_type": "code",
   "execution_count": null,
   "metadata": {},
   "outputs": [],
   "source": [
    "job_ids=list()\n",
    "soup=BeautifulSoup(driver.page_source,\"html5lib\")\n",
    "for tr in soup.find_all(\"table\",{\"class\":\"search\"})[0].find_all(\"tr\"):\n",
    "    try:\n",
    "        job_anchor=tr.find(\"a\")\n",
    "        job_id=job_anchor['href']\n",
    "        #print(job_id)\n",
    "        job_ids.append(\"https://www.sfs.upenn.edu/seo/job_search/job_search.php\"+job_id)\n",
    "    except:\n",
    "        pass\n",
    "        #print(tr,\"\\n_______________________________________\")\n",
    "driver.quit()"
   ]
  },
  {
   "cell_type": "markdown",
   "metadata": {},
   "source": [
    "## Fetching Details for Each Job Id"
   ]
  },
  {
   "cell_type": "code",
   "execution_count": null,
   "metadata": {
    "scrolled": true
   },
   "outputs": [],
   "source": [
    "jobs_list=list()\n",
    "for i in range(0,len(job_ids)):\n",
    "    print(i)\n",
    "    job=job_ids[i]\n",
    "    data=requests.get(job).content\n",
    "    soup=BeautifulSoup(data,\"html5lib\")\n",
    "    job_title=\"-\"\n",
    "    job_id=\"-\"\n",
    "    posted_on=\"-\"\n",
    "    try:\n",
    "        job_title=soup.find(\"div\",{\"class\":\"section\"}).find_all(\"div\")[0].text.strip()\n",
    "    except:\n",
    "        pass\n",
    "    for div in soup.find(\"div\",{\"class\":\"section\"}).find_all(\"div\"):\n",
    "        if(\"Job\" in div.text):\n",
    "            job_id=str(div.text.strip()).replace(\"Job\",\"\").strip()\n",
    "        if(\"Posted on\" in div.text):\n",
    "            posted_on=div.text.strip().replace(\"Posted on\",\"\").strip()\n",
    "\n",
    "    summary=\"-\"\n",
    "    details=\"-\"\n",
    "    contact=\"-\"\n",
    "    for div in soup.find_all(\"div\",{\"class\":\"section\"}):\n",
    "        if(\"Summary\" in div.text):\n",
    "            summary=div.text.replace(\"Summary\",\"\").strip().replace(\"\\t\",\"\")\n",
    "        if(\"Details\" in div.text):\n",
    "            details=div.text.replace(\"Details\",\"\").strip().replace(\"\\t\",\"\")\n",
    "        if(\"Contact Information\" in div.text):\n",
    "            contact=div.text.replace(\"Contact Information\",\"\").strip().replace(\"\\t\",\"\")\n",
    "    try:\n",
    "        pay_per_hour=re.findall(\".*?([$].*?) .*?\",details)[0]\n",
    "    except:\n",
    "        pay_per_hour=\"-\"\n",
    "    try:\n",
    "        hours_per_week=re.findall(\".*?([0-9]{1,2}) hours per week\",details)[0]\n",
    "    except:\n",
    "        hours_per_week=\"-\"\n",
    "    try:\n",
    "        pay_per_week=\"$\"+str(float(pay_per_hour.replace(\"$\",\"\"))*float(hours_per_week))\n",
    "    except:\n",
    "        pay_per_week=\"-\"\n",
    "    job_dict={\"JOB_ID\":job_id,\"Title\":job_title,\"Posted On\":posted_on,\"Summary\":summary,\"Details\":details,\n",
    "              \"Contact Information\":contact,\"Link\":job,\"PayPerHour\":pay_per_hour,\"HoursPerWeek\":hours_per_week,\n",
    "             \"WeeklyPay\":pay_per_week}\n",
    "    jobs_list.append(job_dict)\n",
    "    for key in job_dict.keys():\n",
    "        print(key,\":\",job_dict[key])\n",
    "    print(\"_____________________________________________________________\")"
   ]
  },
  {
   "cell_type": "markdown",
   "metadata": {},
   "source": [
    "## Condense information into Dataframe"
   ]
  },
  {
   "cell_type": "code",
   "execution_count": null,
   "metadata": {},
   "outputs": [],
   "source": [
    "df=pd.DataFrame(jobs_list)\n",
    "for i in range(0,df.shape[0]):\n",
    "    df.WeeklyPay[i]=float(str(df.WeeklyPay[i]).replace(\"$\",\"\"))"
   ]
  },
  {
   "cell_type": "markdown",
   "metadata": {},
   "source": [
    "### Sorting by Weekly Pay (Descending Order)"
   ]
  },
  {
   "cell_type": "code",
   "execution_count": null,
   "metadata": {},
   "outputs": [],
   "source": [
    "df.sort_values(by=['WeeklyPay'],ascending=False)"
   ]
  },
  {
   "cell_type": "markdown",
   "metadata": {},
   "source": [
    "### Saving Information to Excel File"
   ]
  },
  {
   "cell_type": "code",
   "execution_count": null,
   "metadata": {},
   "outputs": [],
   "source": [
    "df.to_excel(\"PennJobs.xlsx\")"
   ]
  },
  {
   "cell_type": "code",
   "execution_count": null,
   "metadata": {},
   "outputs": [],
   "source": [
    "df.head()"
   ]
  },
  {
   "cell_type": "markdown",
   "metadata": {},
   "source": [
    "# Contact Information:\n",
    "(For Collaboration on Projects or building web automation bots)"
   ]
  },
  {
   "cell_type": "markdown",
   "metadata": {},
   "source": [
    "## https://www.fiverr.com/rick137codes"
   ]
  },
  {
   "cell_type": "code",
   "execution_count": null,
   "metadata": {},
   "outputs": [],
   "source": []
  }
 ],
 "metadata": {
  "kernelspec": {
   "display_name": "Python 3",
   "language": "python",
   "name": "python3"
  },
  "language_info": {
   "codemirror_mode": {
    "name": "ipython",
    "version": 3
   },
   "file_extension": ".py",
   "mimetype": "text/x-python",
   "name": "python",
   "nbconvert_exporter": "python",
   "pygments_lexer": "ipython3",
   "version": "3.8.5"
  }
 },
 "nbformat": 4,
 "nbformat_minor": 4
}
